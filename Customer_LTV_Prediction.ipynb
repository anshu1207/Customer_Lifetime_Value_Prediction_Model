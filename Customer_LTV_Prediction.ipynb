{
 "cells": [
  {
   "cell_type": "markdown",
   "id": "56f29668",
   "metadata": {},
   "source": [
    "# Customer Lifetime Value (LTV) Prediction Model\n",
    "\n",
    "**Objective:** Predict the lifetime value (LTV) of customers based on their purchase behavior to aid in targeted marketing.\n",
    "\n",
    "**Tools Used:** Python (Sklearn, XGBoost), Pandas, NumPy, Seaborn, Matplotlib"
   ]
  },
  {
   "cell_type": "code",
   "execution_count": null,
   "id": "b1353cfc",
   "metadata": {},
   "outputs": [],
   "source": [
    "# Import libraries\n",
    "import pandas as pd\n",
    "import numpy as np\n",
    "from sklearn.model_selection import train_test_split\n",
    "from sklearn.ensemble import RandomForestRegressor\n",
    "from sklearn.metrics import mean_absolute_error, mean_squared_error\n",
    "import seaborn as sns\n",
    "import matplotlib.pyplot as plt"
   ]
  },
  {
   "cell_type": "code",
   "execution_count": null,
   "id": "5ece46af",
   "metadata": {},
   "outputs": [],
   "source": [
    "# Simulate dataset\n",
    "np.random.seed(42)\n",
    "n_customers = 200\n",
    "data = pd.DataFrame({\n",
    "    'CustomerID': np.arange(1, n_customers + 1),\n",
    "    'Frequency': np.random.poisson(10, n_customers),\n",
    "    'Recency': np.random.randint(1, 365, n_customers),\n",
    "    'AOV': np.round(np.random.uniform(20, 500, n_customers), 2),\n",
    "})\n",
    "data['LTV'] = (data['Frequency'] * data['AOV']) / data['Recency'] * 30 + np.random.normal(0, 100, n_customers)\n",
    "data.head()"
   ]
  },
  {
   "cell_type": "code",
   "execution_count": null,
   "id": "e6fb9b8e",
   "metadata": {},
   "outputs": [],
   "source": [
    "# Feature selection\n",
    "X = data[['Frequency', 'Recency', 'AOV']]\n",
    "y = data['LTV']\n",
    "X_train, X_test, y_train, y_test = train_test_split(X, y, test_size=0.2, random_state=42)"
   ]
  },
  {
   "cell_type": "code",
   "execution_count": null,
   "id": "a8f0f490",
   "metadata": {},
   "outputs": [],
   "source": [
    "# Train model\n",
    "model = RandomForestRegressor(n_estimators=100, random_state=42)\n",
    "model.fit(X_train, y_train)\n",
    "y_pred = model.predict(X_test)"
   ]
  },
  {
   "cell_type": "code",
   "execution_count": null,
   "id": "12f1e509",
   "metadata": {},
   "outputs": [],
   "source": [
    "# Evaluation\n",
    "mae = mean_absolute_error(y_test, y_pred)\n",
    "rmse = np.sqrt(mean_squared_error(y_test, y_pred))\n",
    "print(f'MAE: {mae:.2f}, RMSE: {rmse:.2f}')"
   ]
  },
  {
   "cell_type": "code",
   "execution_count": null,
   "id": "73158d39",
   "metadata": {},
   "outputs": [],
   "source": [
    "# Visualize results\n",
    "plt.figure(figsize=(8,5))\n",
    "sns.scatterplot(x=y_test, y=y_pred)\n",
    "plt.xlabel('Actual LTV')\n",
    "plt.ylabel('Predicted LTV')\n",
    "plt.title('Actual vs Predicted LTV')\n",
    "plt.grid(True)\n",
    "plt.show()"
   ]
  }
 ],
 "metadata": {},
 "nbformat": 4,
 "nbformat_minor": 5
}
